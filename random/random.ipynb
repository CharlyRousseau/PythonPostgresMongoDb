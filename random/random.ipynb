{
 "cells": [
  {
   "cell_type": "code",
   "execution_count": 29,
   "metadata": {},
   "outputs": [],
   "source": [
    "from faker import Faker\n",
    "import random\n",
    "from datetime import datetime, timedelta\n",
    "\n",
    "fake = Faker()\n",
    "\n",
    "# Fonction pour générer une date aléatoire entre deux dates\n",
    "def random_date(start_date, end_date):\n",
    "    return start_date + timedelta(seconds=random.randint(0, int((end_date - start_date).total_seconds())))\n",
    "\n",
    "# Fonction pour générer une requête INSERT pour un utilisateur\n",
    "def generate_user_insert():\n",
    "    username = fake.unique.user_name()\n",
    "    while len(username) < 9:\n",
    "        username = fake.unique.user_name()\n",
    "    \n",
    "    password = fake.user_name()\n",
    "    while len(password) < 9:\n",
    "        password = fake.password()\n",
    "    return f\"INSERT INTO user_table (firstname, lastname, email, username, password, created_at) VALUES ('{fake.first_name()}', '{fake.last_name()}', '{fake.unique.email()}', '{username}', '{password}', '{random_date(datetime(2023, 1, 1), datetime(2023, 6, 30))}');\"\n",
    "\n",
    "# Fonction pour générer une requête INSERT pour une vérification d'email\n",
    "def generate_verification_insert(user_id, created_at):\n",
    "    return f\"INSERT INTO user_email_verification_table (user_id, verified_at) VALUES ({user_id}, '{random_date(created_at, datetime(2023, 6, 30))}');\"\n",
    "\n",
    "# Fonction pour générer une requête INSERT pour une session\n",
    "def generate_session_insert(user_id, created_at, verification_date):\n",
    "    return f\"INSERT INTO session_table (user_id, connected_at) VALUES ({user_id}, '{random_date(max(created_at, verification_date), datetime(2023, 6, 30))}');\"\n",
    "\n",
    "# Écriture des requêtes dans le fichier SQL\n",
    "with open('../part_1_2.sql', 'w') as file:\n",
    "    # Insérer 100 utilisateurs\n",
    "    nbVerifs = 0\n",
    "    user_ids = list(range(1, 101))\n",
    "    for user_id in user_ids:\n",
    "        user_insert = generate_user_insert()\n",
    "        file.write(user_insert + '\\n')\n",
    "\n",
    "        # Insérer au maximum 85 vérifications d'e-mails\n",
    "        if (nbVerifs<85):\n",
    "            verification_insert = generate_verification_insert(user_id, datetime(2023, 1, 1))\n",
    "            file.write(verification_insert + '\\n')\n",
    "            nbVerifs+=1\n",
    "\n",
    "            # Insérer 10 sessions pour chaque utilisateur\n",
    "        for _ in range(10):\n",
    "            session_insert = generate_session_insert(user_id, datetime(2023, 1, 1), datetime(2023, 1, 1))\n",
    "            file.write(session_insert + '\\n')\n"
   ]
  }
 ],
 "metadata": {
  "kernelspec": {
   "display_name": "Python 3",
   "language": "python",
   "name": "python3"
  },
  "language_info": {
   "codemirror_mode": {
    "name": "ipython",
    "version": 3
   },
   "file_extension": ".py",
   "mimetype": "text/x-python",
   "name": "python",
   "nbconvert_exporter": "python",
   "pygments_lexer": "ipython3",
   "version": "3.11.2"
  }
 },
 "nbformat": 4,
 "nbformat_minor": 2
}
