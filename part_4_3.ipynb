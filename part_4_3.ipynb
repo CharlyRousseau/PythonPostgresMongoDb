{
 "cells": [
  {
   "cell_type": "code",
   "execution_count": 5,
   "metadata": {},
   "outputs": [],
   "source": [
    "import os\n",
    "from dotenv import load_dotenv\n",
    "from urllib.parse import urlparse\n",
    "import psycopg2\n",
    "\n",
    "load_dotenv()\n",
    "username = os.environ.get(\"POSTGRESQL_LOCAL_USER\")\n",
    "password = os.environ.get(\"POSTGRESQL_LOCAL_PASSWORD\")\n",
    "database = os.environ.get(\"POSTGRESQL_LOCAL_DATABASE\")\n",
    "hostname = \"localhost\"\n",
    "port = int(os.environ.get(\"POSTGRESQL_LOCAL_PORT\"))\n",
    "\n",
    "connection = psycopg2.connect(\n",
    "    database = database,\n",
    "    user = username,\n",
    "    password = password,\n",
    "    host = hostname,\n",
    "    port = port\n",
    ")"
   ]
  },
  {
   "cell_type": "code",
   "execution_count": 6,
   "metadata": {},
   "outputs": [
    {
     "name": "stdout",
     "output_type": "stream",
     "text": [
      "Temps avec le trigger : 0.419237431982765 secondes\n",
      "Temps sans le trigger : 0.3172601420083083 secondes\n",
      "Temps avec le trigger : 3.5829878650256433 secondes\n",
      "Temps sans le trigger : 3.063297307002358 secondes\n",
      "Temps avec le trigger : 324.2239217199967 secondes\n",
      "Temps sans le trigger : 331.4469891930057 secondes\n"
     ]
    }
   ],
   "source": [
    "import psycopg2\n",
    "import timeit\n",
    "from datetime import datetime\n",
    "\n",
    "def create_username_history_table(conn):\n",
    "    cur = conn.cursor()\n",
    "\n",
    "    cur.execute(\"\"\"\n",
    "        CREATE TABLE IF NOT EXISTS username_history_from_app (\n",
    "            username_history_id SERIAL PRIMARY KEY,\n",
    "            user_id INTEGER,\n",
    "            username_new VARCHAR(255),\n",
    "            timestamp TIMESTAMP DEFAULT CURRENT_TIMESTAMP\n",
    "        )\n",
    "    \"\"\")\n",
    "\n",
    "    conn.commit()\n",
    "    cur.close()\n",
    "\n",
    "def update_with_trigger(conn):\n",
    "    cur = conn.cursor()\n",
    "\n",
    "    user_id = 1\n",
    "    new_username = \"nouveau_username\"\n",
    "\n",
    "    cur.execute(\"UPDATE user_table SET username = %s WHERE user_id = %s\", (new_username, user_id))\n",
    "\n",
    "    conn.commit()\n",
    "    cur.close()\n",
    "\n",
    "# Fonction pour mettre à jour le username sans utiliser le trigger\n",
    "def update_without_trigger(conn):\n",
    "    cur = conn.cursor()\n",
    "\n",
    "    user_id = 1\n",
    "    new_username = \"nouveau_username\"\n",
    "\n",
    "    timestamp = datetime.now()\n",
    "    cur.execute(\"INSERT INTO username_history_from_app (user_id, username_new, timestamp) VALUES (%s, %s, %s)\",\n",
    "                (user_id, new_username, timestamp))\n",
    "\n",
    "    conn.commit()\n",
    "    cur.close()\n",
    "\n",
    "create_username_history_table(connection)\n",
    "\n",
    "time_with_trigger_100 = timeit.timeit(lambda: update_with_trigger(connection), number=100)\n",
    "\n",
    "time_without_trigger_100 = timeit.timeit(lambda: update_without_trigger(connection), number=100)\n",
    "\n",
    "time_with_trigger_1000 = timeit.timeit(lambda: update_with_trigger(connection), number=1000)\n",
    "\n",
    "time_without_trigger_1000 = timeit.timeit(lambda: update_without_trigger(connection), number=1000)\n",
    "\n",
    "time_with_trigger_100000 = timeit.timeit(lambda: update_with_trigger(connection), number=100000)\n",
    "\n",
    "time_without_trigger_100000 = timeit.timeit(lambda: update_without_trigger(connection), number=100000)\n",
    "\n",
    "connection.close()\n",
    "print(f\"Temps avec le trigger : {time_with_trigger_100} secondes\")\n",
    "print(f\"Temps sans le trigger : {time_without_trigger_100} secondes\")\n",
    "print(f\"Temps avec le trigger : {time_with_trigger_1000} secondes\")\n",
    "print(f\"Temps sans le trigger : {time_without_trigger_1000} secondes\")\n",
    "print(f\"Temps avec le trigger : {time_with_trigger_100000} secondes\")\n",
    "print(f\"Temps sans le trigger : {time_without_trigger_100000} secondes\")\n"
   ]
  }
 ],
 "metadata": {
  "kernelspec": {
   "display_name": "env",
   "language": "python",
   "name": "python3"
  },
  "language_info": {
   "codemirror_mode": {
    "name": "ipython",
    "version": 3
   },
   "file_extension": ".py",
   "mimetype": "text/x-python",
   "name": "python",
   "nbconvert_exporter": "python",
   "pygments_lexer": "ipython3",
   "version": "3.11.2"
  }
 },
 "nbformat": 4,
 "nbformat_minor": 2
}
