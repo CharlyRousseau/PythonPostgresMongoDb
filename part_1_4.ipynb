{
 "cells": [
  {
   "cell_type": "code",
   "execution_count": 29,
   "metadata": {},
   "outputs": [],
   "source": [
    "import os\n",
    "from dotenv import load_dotenv\n",
    "from urllib.parse import urlparse\n",
    "import psycopg2\n",
    "\n",
    "url = os.environ.get(\"POSTGRESQL_SCALINGO_URL\")\n",
    "\n",
    "#url_corrected = \"postgresql\" + url[8:]\n",
    "\n",
    "\n",
    "result = urlparse(url)\n",
    "\n",
    "username = result.username\n",
    "password = result.password\n",
    "database = result.path[1:]\n",
    "hostname = result.hostname\n",
    "port = result.port\n",
    "\n",
    "connection = psycopg2.connect(\n",
    "    database = database,\n",
    "    user = username,\n",
    "    password = password,\n",
    "    host = hostname,\n",
    "    port = port\n",
    ")"
   ]
  },
  {
   "cell_type": "code",
   "execution_count": 30,
   "metadata": {},
   "outputs": [
    {
     "name": "stdout",
     "output_type": "stream",
     "text": [
      "part_1_1.sql\n",
      "part_1_2.sql\n",
      "Error executing part_1_2.sql: duplicate key value violates unique constraint \"user_table_email_key\"\n",
      "DETAIL:  Key (email)=(michaelgarner@example.com) already exists.\n",
      "\n",
      "part_1_3_a.sql\n",
      "Error executing part_1_3_a.sql: relation \"session_and_user\" already exists\n",
      "\n",
      "part_1_3_b.sql\n",
      "Error executing part_1_3_b.sql: column \"connected_at_month\" of relation \"session_table\" already exists\n",
      "\n",
      "part_1_3_b_view.sql\n",
      "Error executing part_1_3_b_view.sql: relation \"session_per_month\" already exists\n",
      "\n",
      "part_1_3_c.sql\n"
     ]
    }
   ],
   "source": [
    "import os\n",
    "import psycopg2\n",
    "\n",
    "def execute_sql_file(conn, file_path):\n",
    "    try:\n",
    "        with open(file_path, 'r') as sql_file:\n",
    "            cur = conn.cursor()\n",
    "            cur.execute(sql_file.read())\n",
    "            cur.close()\n",
    "        conn.commit()\n",
    "    except Exception as e:\n",
    "        print(f\"Error executing {file_path}: {e}\")\n",
    "        conn.rollback()\n",
    "\n",
    "# List of SQL files\n",
    "sql_files = [\n",
    "    \"part_1_1.sql\",\n",
    "    \"part_1_2.sql\",\n",
    "    \"part_1_3_a.sql\",\n",
    "    \"part_1_3_b.sql\",\n",
    "    \"part_1_3_b_view.sql\",\n",
    "    \"part_1_3_c.sql\"\n",
    "]\n",
    "\n",
    "# Execute each SQL file\n",
    "for file in sql_files:\n",
    "    print(file)\n",
    "    execute_sql_file(connection, file)\n",
    "\n",
    "connection.close()\n"
   ]
  },
  {
   "cell_type": "code",
   "execution_count": 41,
   "metadata": {},
   "outputs": [
    {
     "name": "stdout",
     "output_type": "stream",
     "text": [
      "[(6,)]\n"
     ]
    }
   ],
   "source": [
    "connection = psycopg2.connect(\n",
    "    database = database,\n",
    "    user = username,\n",
    "    password = password,\n",
    "    host = hostname,\n",
    "    port = port\n",
    ")\n",
    "\n",
    "cur = connection.cursor()\n",
    "cur.execute(\"SELECT COUNT(*) FROM very_active_users_may;\")\n",
    "test = cur.fetchall()\n",
    "print(test)\n",
    "cur.close()\n"
   ]
  }
 ],
 "metadata": {
  "kernelspec": {
   "display_name": "env",
   "language": "python",
   "name": "python3"
  },
  "language_info": {
   "codemirror_mode": {
    "name": "ipython",
    "version": 3
   },
   "file_extension": ".py",
   "mimetype": "text/x-python",
   "name": "python",
   "nbconvert_exporter": "python",
   "pygments_lexer": "ipython3",
   "version": "3.11.2"
  }
 },
 "nbformat": 4,
 "nbformat_minor": 2
}
