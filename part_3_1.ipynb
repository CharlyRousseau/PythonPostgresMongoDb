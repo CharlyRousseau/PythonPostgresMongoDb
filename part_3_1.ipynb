{
 "cells": [
  {
   "cell_type": "code",
   "execution_count": 4,
   "metadata": {},
   "outputs": [],
   "source": [
    "import psycopg2\n",
    "from faker import Faker\n",
    "import random\n",
    "\n",
    "fake = Faker()\n",
    "\n",
    "def generate_password():\n",
    "    return fake.password(length=12, special_chars=True, digits=True, upper_case=True, lower_case=True)\n",
    "\n",
    "def create_table_if_not_exists(conn):\n",
    "    cur = conn.cursor()\n",
    "    cur.execute(\"\"\"\n",
    "    CREATE TABLE IF NOT EXISTS user_for_comparison (\n",
    "        user_id SERIAL PRIMARY KEY, \n",
    "        firstname VARCHAR(255), \n",
    "        lastname VARCHAR(255), \n",
    "        email VARCHAR(255) UNIQUE, \n",
    "        username VARCHAR(255) UNIQUE CHECK (length(username) > 8), \n",
    "        password VARCHAR(255) CHECK (length(password) > 8), \n",
    "        created_at TIMESTAMP DEFAULT CURRENT_TIMESTAMP\n",
    "    );\n",
    "    \"\"\")\n",
    "    conn.commit()\n",
    "    cur.close()\n",
    "\n",
    "def insert_fake_data(conn, n=100000):\n",
    "    cur = conn.cursor()\n",
    "    for _ in range(n):\n",
    "        firstname = fake.first_name()\n",
    "        lastname = fake.last_name()\n",
    "        email = fake.unique.email()\n",
    "        while True:\n",
    "            username = fake.unique.user_name()\n",
    "            if len(username) <= 8:\n",
    "                username += str(random.randint(1000, 9999))\n",
    "            else:\n",
    "                break\n",
    "        password = generate_password() \n",
    "        cur.execute(\n",
    "            \"INSERT INTO user_for_comparison (firstname, lastname, email, username, password) VALUES (%s, %s, %s, %s, %s)\",\n",
    "            (firstname, lastname, email, username, password)\n",
    "        )\n",
    "    conn.commit()\n",
    "    cur.close()\n",
    "\n",
    "\n",
    "conn = psycopg2.connect(\n",
    "    dbname=\"app_auth\",\n",
    "    user=\"user\",\n",
    "    password=\"root\",\n",
    "    host=\"localhost\",\n",
    "    port=\"25432\"\n",
    ")\n",
    "\n",
    "create_table_if_not_exists(conn)\n",
    "\n",
    "insert_fake_data(conn)\n",
    "\n",
    "conn.close()\n"
   ]
  },
  {
   "cell_type": "code",
   "execution_count": 5,
   "metadata": {},
   "outputs": [
    {
     "name": "stdout",
     "output_type": "stream",
     "text": [
      "Temps d'exécution pour l'utilisateur 'username1': 0.019189119338989258 secondes.\n",
      "Temps d'exécution pour l'utilisateur 'username2': 0.004366636276245117 secondes.\n",
      "Temps d'exécution pour l'utilisateur 'username3': 0.005029439926147461 secondes.\n"
     ]
    }
   ],
   "source": [
    "import psycopg2\n",
    "import time\n",
    "\n",
    "conn = psycopg2.connect(\n",
    "    dbname=\"app_auth\",\n",
    "    user=\"user\",\n",
    "    password=\"root\",\n",
    "    host=\"localhost\",\n",
    "    port=\"25432\"\n",
    ")\n",
    "\n",
    "def measure_query_time(username):\n",
    "    cur = conn.cursor()\n",
    "    start_time = time.time()\n",
    "    cur.execute(\"SELECT * FROM user_for_comparison WHERE username = %s\", (username,))\n",
    "    result = cur.fetchall()\n",
    "    end_time = time.time()\n",
    "    duration = end_time - start_time\n",
    "    print(f\"Temps d'exécution pour l'utilisateur '{username}': {duration} secondes.\")\n",
    "    cur.close()\n",
    "\n",
    "usernames_to_test = [\"username1\", \"username2\", \"username3\"]\n",
    "\n",
    "for username in usernames_to_test:\n",
    "    measure_query_time(username)\n",
    "\n",
    "conn.close()\n"
   ]
  },
  {
   "cell_type": "code",
   "execution_count": 6,
   "metadata": {},
   "outputs": [
    {
     "name": "stdout",
     "output_type": "stream",
     "text": [
      "Index créé avec succès sur la colonne username.\n",
      "\n",
      "Mesure du temps d'exécution après la création de l'index:\n",
      "Temps d'exécution pour 'username1': 0.0048 secondes.\n",
      "Temps d'exécution pour 'username2': 0.0021 secondes.\n",
      "Temps d'exécution pour 'username3': 0.0012 secondes.\n"
     ]
    }
   ],
   "source": [
    "import psycopg2\n",
    "import time\n",
    "\n",
    "def measure_query_time(conn, username):\n",
    "    with conn.cursor() as cur:\n",
    "        start_time = time.time()\n",
    "        cur.execute(\"SELECT * FROM user_for_comparison WHERE username = %s\", (username,))\n",
    "        cur.fetchall()\n",
    "        end_time = time.time()\n",
    "        print(f\"Temps d'exécution pour '{username}': {end_time - start_time:.4f} secondes.\")\n",
    "\n",
    "conn = psycopg2.connect(\n",
    "    dbname=\"app_auth\",\n",
    "    user=\"user\",\n",
    "    password=\"root\",\n",
    "    host=\"localhost\",\n",
    "    port=\"25432\"\n",
    ")\n",
    "\n",
    "with conn.cursor() as cur:\n",
    "    cur.execute(\"CREATE INDEX IF NOT EXISTS idx_username ON user_for_comparison(username);\")\n",
    "    conn.commit()\n",
    "print(\"Index créé avec succès sur la colonne username.\")\n",
    "\n",
    "usernames_to_test = [\"username1\", \"username2\", \"username3\"]\n",
    "\n",
    "print(\"\\nMesure du temps d'exécution après la création de l'index:\")\n",
    "for username in usernames_to_test:\n",
    "    measure_query_time(conn, username)\n",
    "\n",
    "conn.close()\n"
   ]
  },
  {
   "cell_type": "markdown",
   "metadata": {},
   "source": [
    "## Scalingp"
   ]
  },
  {
   "cell_type": "code",
   "execution_count": null,
   "metadata": {},
   "outputs": [],
   "source": []
  },
  {
   "cell_type": "code",
   "execution_count": null,
   "metadata": {},
   "outputs": [],
   "source": []
  }
 ],
 "metadata": {
  "kernelspec": {
   "display_name": "Python 3",
   "language": "python",
   "name": "python3"
  },
  "language_info": {
   "codemirror_mode": {
    "name": "ipython",
    "version": 3
   },
   "file_extension": ".py",
   "mimetype": "text/x-python",
   "name": "python",
   "nbconvert_exporter": "python",
   "pygments_lexer": "ipython3",
   "version": "3.11.2"
  }
 },
 "nbformat": 4,
 "nbformat_minor": 2
}
